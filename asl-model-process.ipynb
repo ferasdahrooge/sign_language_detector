{
 "cells": [
  {
   "cell_type": "markdown",
   "metadata": {},
   "source": [
    "# Sign Language Model Detector"
   ]
  },
  {
   "cell_type": "markdown",
   "metadata": {},
   "source": [
    "### Regarding the Project"
   ]
  },
  {
   "cell_type": "markdown",
   "metadata": {},
   "source": [
    "##### DataSet\n",
    "* Same Image Size\n",
    "* Similar Background\n",
    "* Intensity range\n",
    "* Distributed Based on letter Presentation\n",
    "\n",
    "##### Split Data\n",
    "* Single Train/Val/Test 75%/12.5%/12.5%\n",
    "\n",
    "##### Implement Optimizers\n",
    "* Improve Runtime Due to CPU usage (Mac core)\n",
    "\n",
    "##### Metrics\n",
    "* Accuracy\n",
    "* Confusion Matrix\n",
    "* ROC Curve\n",
    "* f1 Score\n",
    "\n",
    "##### Set your callbacks and track the experiments\n",
    "* Early stopping - patience\n",
    "* Model check point\n",
    "* Learning rate scheduler\n",
    "\n",
    "##### Set the main hyperparameters\n",
    "* batch size\n",
    "* learning rate\n",
    "* number of epochs\n",
    "\n",
    "##### Train Model\n",
    "* Adam as Optimizer\n",
    "* Batch Size = 64\n",
    "* Using TensorFlow\n",
    "\n",
    "##### Implement Test\n",
    "* Apply Predictions\n",
    "* Extract relavent metrics\n",
    "* Measure inference Time"
   ]
  },
  {
   "cell_type": "markdown",
   "metadata": {},
   "source": [
    "#### Approach 1"
   ]
  },
  {
   "cell_type": "code",
   "execution_count": 3,
   "metadata": {},
   "outputs": [
    {
     "name": "stderr",
     "output_type": "stream",
     "text": [
      "2023-05-10 22:02:45.952452: I tensorflow/core/platform/cpu_feature_guard.cc:193] This TensorFlow binary is optimized with oneAPI Deep Neural Network Library (oneDNN) to use the following CPU instructions in performance-critical operations:  AVX2 FMA\n",
      "To enable them in other operations, rebuild TensorFlow with the appropriate compiler flags.\n"
     ]
    }
   ],
   "source": [
    "import numpy as np\n",
    "import pandas as pd\n",
    "import seaborn as sns\n",
    "import matplotlib.pyplot as plt\n",
    "%matplotlib inline\n",
    "\n",
    "# import image processing libraries\n",
    "import cv2\n",
    "import skimage\n",
    "from skimage.transform import resize\n",
    "\n",
    "# import tensorflow and keras\n",
    "import tensorflow as tf\n",
    "from tensorflow import keras\n",
    "import os\n",
    "from tensorflow.keras.utils import to_categorical\n",
    "from glob import glob\n",
    "from random import sample\n",
    "from random import random"
   ]
  },
  {
   "cell_type": "code",
   "execution_count": 4,
   "metadata": {},
   "outputs": [
    {
     "name": "stdout",
     "output_type": "stream",
     "text": [
      "Found 87000 files belonging to 29 classes.\n"
     ]
    },
    {
     "name": "stderr",
     "output_type": "stream",
     "text": [
      "2023-05-10 22:02:58.056301: I tensorflow/core/platform/cpu_feature_guard.cc:193] This TensorFlow binary is optimized with oneAPI Deep Neural Network Library (oneDNN) to use the following CPU instructions in performance-critical operations:  AVX2 FMA\n",
      "To enable them in other operations, rebuild TensorFlow with the appropriate compiler flags.\n"
     ]
    }
   ],
   "source": [
    "class_names = [\n",
    "    \"A\",\n",
    "    \"B\",\n",
    "    \"C\",\n",
    "    \"D\",\n",
    "    \"E\",\n",
    "    \"F\",\n",
    "    \"G\",\n",
    "    \"H\",\n",
    "    \"I\",\n",
    "    \"J\",\n",
    "    \"K\",\n",
    "    \"L\",\n",
    "    \"M\",\n",
    "    \"N\",\n",
    "    \"O\",\n",
    "    \"P\",\n",
    "    \"Q\",\n",
    "    \"R\",\n",
    "    \"S\",\n",
    "    \"T\",\n",
    "    \"U\",\n",
    "    \"V\",\n",
    "    \"W\",\n",
    "    \"X\",\n",
    "    \"Y\",\n",
    "    \"Z\",\n",
    "    \"del\",\n",
    "    \"nothing\",\n",
    "    \"space\",\n",
    "]\n",
    "\n",
    "# Paths to the downloaded dataset\n",
    "train_dir = \"/Users/ferasdahrooge/Documents/WInter 2023/sign_language_detector/asl_dataset/asl-alphabet/asl_alphabet_train/asl_alphabet_train\"\n",
    "\n",
    "IMG_SIZE = (64, 64)\n",
    "target_dims = (IMG_SIZE, IMG_SIZE, 3)\n",
    "BATCH_SIZE = 64\n",
    "\n",
    "# set the training dataset\n",
    "train_dataset = tf.keras.utils.image_dataset_from_directory(\n",
    "    train_dir,\n",
    "    shuffle=True,\n",
    "    batch_size=BATCH_SIZE,\n",
    "    image_size=IMG_SIZE,\n",
    "    label_mode=\"categorical\",\n",
    ")"
   ]
  },
  {
   "cell_type": "code",
   "execution_count": null,
   "metadata": {},
   "outputs": [],
   "source": []
  }
 ],
 "metadata": {
  "kernelspec": {
   "display_name": "Python 3.9.13 ('base')",
   "language": "python",
   "name": "python3"
  },
  "language_info": {
   "codemirror_mode": {
    "name": "ipython",
    "version": 3
   },
   "file_extension": ".py",
   "mimetype": "text/x-python",
   "name": "python",
   "nbconvert_exporter": "python",
   "pygments_lexer": "ipython3",
   "version": "3.9.13"
  },
  "orig_nbformat": 4,
  "vscode": {
   "interpreter": {
    "hash": "2d8559e58fad08f6b149f9f678acd42e602cfd8cee785110be98faa6bcb4ac45"
   }
  }
 },
 "nbformat": 4,
 "nbformat_minor": 2
}
