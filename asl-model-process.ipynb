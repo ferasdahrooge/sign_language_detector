{
 "cells": [
  {
   "cell_type": "markdown",
   "metadata": {},
   "source": [
    "# Sign Language Model Detector"
   ]
  },
  {
   "cell_type": "markdown",
   "metadata": {},
   "source": [
    "### Regarding the Project"
   ]
  },
  {
   "cell_type": "markdown",
   "metadata": {},
   "source": [
    "##### DataSet\n",
    "* Same Image Size\n",
    "* Similar Background\n",
    "* Intensity range\n",
    "* Distributed Based on letter Presentation\n",
    "\n",
    "##### Split Data\n",
    "* Single Train/Val/Test 75%/12.5%/12.5%\n",
    "\n",
    "##### Implement Optimizers\n",
    "* Improve Runtime Due to CPU usage (Mac core)\n",
    "\n",
    "##### Metrics\n",
    "* Accuracy\n",
    "* Confusion Matrix\n",
    "* ROC Curve\n",
    "* f1 Score\n",
    "\n",
    "##### Set your callbacks and track the experiments\n",
    "* Early stopping - patience\n",
    "* Model check point\n",
    "* Learning rate scheduler\n",
    "\n",
    "##### Set the main hyperparameters\n",
    "* batch size\n",
    "* learning rate\n",
    "* number of epochs\n",
    "\n",
    "##### Train Model\n",
    "* Adam as Optimizer\n",
    "* Batch Size = 64\n",
    "* Using TensorFlow\n",
    "\n",
    "##### Implement Test\n",
    "* Apply Predictions\n",
    "* Extract relavent metrics\n",
    "* Measure inference Time"
   ]
  },
  {
   "cell_type": "code",
   "execution_count": null,
   "metadata": {},
   "outputs": [],
   "source": [
    "import numpy as np\n",
    "import pandas as pd\n",
    "import seaborn as sns\n",
    "import matplotlib.pyplot as plt\n",
    "%matplotlib inline\n",
    "\n",
    "# import image processing libraries\n",
    "import cv2\n",
    "import skimage\n",
    "from skimage.transform import resize\n",
    "\n",
    "# import tensorflow and keras\n",
    "import tensorflow as tf\n",
    "from tensorflow import keras\n",
    "import os\n",
    "from tensorflow.keras.utils import to_categorical\n",
    "from glob import glob\n",
    "from random import sample\n",
    "from random import random"
   ]
  }
 ],
 "metadata": {
  "language_info": {
   "name": "python"
  },
  "orig_nbformat": 4
 },
 "nbformat": 4,
 "nbformat_minor": 2
}
